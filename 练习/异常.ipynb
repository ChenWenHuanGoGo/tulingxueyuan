{
 "cells": [
  {
   "cell_type": "code",
   "execution_count": 1,
   "metadata": {},
   "outputs": [
    {
     "name": "stdout",
     "output_type": "stream",
     "text": [
      "your number:0\n",
      "error\n",
      "division by zero\n"
     ]
    }
   ],
   "source": [
    "try:\n",
    "    num = int(input(\"your number:\"))\n",
    "    a = 100/num\n",
    "    print(\"计算结果是{}\".format(a))\n",
    "except ZeroDivisionError as e:\n",
    "    print(\"error\")\n",
    "    print(e)\n",
    "    #exit是退出程序的意思\n",
    "    \n",
    "    "
   ]
  },
  {
   "cell_type": "code",
   "execution_count": 3,
   "metadata": {},
   "outputs": [
    {
     "name": "stdout",
     "output_type": "stream",
     "text": [
      "your number:10\n"
     ]
    },
    {
     "ename": "NameError",
     "evalue": "name 'pint' is not defined",
     "traceback": [
      "\u001b[0;31m---------------------------------------------------------------------------\u001b[0m",
      "\u001b[0;31mNameError\u001b[0m                                 Traceback (most recent call last)",
      "\u001b[0;32m<ipython-input-3-3e2d2daa02f1>\u001b[0m in \u001b[0;36m<module>\u001b[0;34m()\u001b[0m\n\u001b[1;32m      1\u001b[0m \u001b[0mnum\u001b[0m \u001b[0;34m=\u001b[0m \u001b[0mint\u001b[0m\u001b[0;34m(\u001b[0m\u001b[0minput\u001b[0m\u001b[0;34m(\u001b[0m\u001b[0;34m\"your number:\"\u001b[0m\u001b[0;34m)\u001b[0m\u001b[0;34m)\u001b[0m\u001b[0;34m\u001b[0m\u001b[0m\n\u001b[1;32m      2\u001b[0m \u001b[0ma\u001b[0m \u001b[0;34m=\u001b[0m \u001b[0;36m100\u001b[0m\u001b[0;34m/\u001b[0m\u001b[0mnum\u001b[0m\u001b[0;34m\u001b[0m\u001b[0m\n\u001b[0;32m----> 3\u001b[0;31m \u001b[0mpint\u001b[0m\u001b[0;34m(\u001b[0m\u001b[0;34m\"计算结果是{}\"\u001b[0m\u001b[0;34m.\u001b[0m\u001b[0mformat\u001b[0m\u001b[0;34m(\u001b[0m\u001b[0ma\u001b[0m\u001b[0;34m)\u001b[0m\u001b[0;34m)\u001b[0m\u001b[0;34m\u001b[0m\u001b[0m\n\u001b[0m",
      "\u001b[0;31mNameError\u001b[0m: name 'pint' is not defined"
     ],
     "output_type": "error"
    }
   ],
   "source": [
    "num = int(input(\"your number:\"))\n",
    "a = 100/num\n",
    "pint(\"计算结果是{}\".format(a))"
   ]
  },
  {
   "cell_type": "code",
   "execution_count": 9,
   "metadata": {},
   "outputs": [
    {
     "name": "stdout",
     "output_type": "stream",
     "text": [
      "your number:ss\n",
      "我也不知道哪里错了\n",
      "invalid literal for int() with base 10: 'ss'\n"
     ]
    }
   ],
   "source": [
    "try:\n",
    "    num = int(input(\"your number:\"))\n",
    "    a = 100/num\n",
    "    print(\"计算结果是{}\".format(a))\n",
    "# 越是子类的异常越往前放\n",
    "except ZeroDivisionError as e:\n",
    "    print(\"error\")\n",
    "    print(e)\n",
    "except NameError as n:\n",
    "    print(\"名错了\")\n",
    "    print(n)\n",
    "except AttributeError as a:\n",
    "    print(\"属性错误\")\n",
    "    print(a)\n",
    "# 所有异常都继承自Exception，任何异常都可以拦截到\n",
    "# 这句话一定放最后\n",
    "except Exception as q:\n",
    "    print(\"我也不知道哪里错了\")\n",
    "    print(q)"
   ]
  },
  {
   "cell_type": "code",
   "execution_count": 11,
   "metadata": {},
   "outputs": [
    {
     "name": "stdout",
     "output_type": "stream",
     "text": [
      "35678\n",
      "值错误\n",
      "\n",
      "执行\n"
     ]
    }
   ],
   "source": [
    "# raise  手动引发异常\n",
    "try:\n",
    "    print(35678)\n",
    "    #手动引发异常\n",
    "    raise ValueError\n",
    "    print(\"还没玩呀\")\n",
    "except NameError as n:\n",
    "    print(\"名错了\")\n",
    "    print(n)\n",
    "except ValueError as a:\n",
    "    print(\"值错误\")\n",
    "    print(a)\n",
    "except Exception as q:\n",
    "    print(\"我也不知道哪里错了\")\n",
    "finally:\n",
    "    print(\"执行\")"
   ]
  },
  {
   "cell_type": "code",
   "execution_count": 14,
   "metadata": {},
   "outputs": [
    {
     "name": "stdout",
     "output_type": "stream",
     "text": [
      "35678\n",
      "chenerror\n",
      "执行\n"
     ]
    }
   ],
   "source": [
    "# 自定义异常\n",
    "# 注意：自定义异常必须是系统异常的子类\n",
    "# raise  手动引发异常\n",
    "# 异常是先找子类再找父类\n",
    "class ChenError(ValueError):\n",
    "    pass\n",
    "try:\n",
    "    print(35678)\n",
    "    #手动引发异常\n",
    "    raise ChenError\n",
    "    print(\"还没玩呀\")\n",
    "except NameError as n:\n",
    "    print(\"名错了\")\n",
    "    print(n)\n",
    "except ChenError as n:\n",
    "    print(\"chenerror\")\n",
    "except ValueError as a:\n",
    "    print(\"值错误\")\n",
    "    print(a)\n",
    "except Exception as q:\n",
    "    print(\"我也不知道哪里错了\")\n",
    "finally:\n",
    "    print(\"执行\")"
   ]
  },
  {
   "cell_type": "code",
   "execution_count": null,
   "metadata": {
    "collapsed": true
   },
   "outputs": [],
   "source": []
  },
  {
   "cell_type": "code",
   "execution_count": null,
   "metadata": {
    "collapsed": true
   },
   "outputs": [],
   "source": []
  }
 ],
 "metadata": {
  "kernelspec": {
   "display_name": "Python 3",
   "language": "python",
   "name": "python3"
  },
  "language_info": {
   "codemirror_mode": {
    "name": "ipython",
    "version": 3
   },
   "file_extension": ".py",
   "mimetype": "text/x-python",
   "name": "python",
   "nbconvert_exporter": "python",
   "pygments_lexer": "ipython3",
   "version": "3.6.3"
  }
 },
 "nbformat": 4,
 "nbformat_minor": 2
}
