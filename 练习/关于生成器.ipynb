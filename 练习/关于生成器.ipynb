{
 "cells": [
  {
   "cell_type": "markdown",
   "metadata": {},
   "source": [
    "### 生成器可以在循环中，看到循环的每次迭代的过程"
   ]
  },
  {
   "cell_type": "code",
   "execution_count": 9,
   "metadata": {},
   "outputs": [],
   "source": [
    "def my():\n",
    "    print(\"123\")\n",
    "    yield 1\n",
    "    yield 2\n",
    "m = my()\n",
    "#next(m)\n",
    "#next(m)"
   ]
  },
  {
   "cell_type": "code",
   "execution_count": 10,
   "metadata": {},
   "outputs": [
    {
     "name": "stdout",
     "output_type": "stream",
     "text": [
      "123\n",
      "1\n",
      "2\n"
     ]
    }
   ],
   "source": [
    "for i in m:\n",
    "    print(i)"
   ]
  },
  {
   "cell_type": "code",
   "execution_count": 13,
   "metadata": {},
   "outputs": [
    {
     "name": "stdout",
     "output_type": "stream",
     "text": [
      "1  1  2  3  5  8  13  21  34  55  "
     ]
    }
   ],
   "source": [
    "# 斐波那契数列01\n",
    "def fib():\n",
    "    a = 0\n",
    "    b = 1\n",
    "    while True:\n",
    "        yield b\n",
    "        a,b = b,a+b\n",
    "n = 1\n",
    "for i in fib():\n",
    "    print(i,end=\"  \")\n",
    "    n += 1\n",
    "    if n > 10:\n",
    "        break\n",
    "    "
   ]
  },
  {
   "cell_type": "code",
   "execution_count": 32,
   "metadata": {},
   "outputs": [
    {
     "name": "stdout",
     "output_type": "stream",
     "text": [
      "[1]\n",
      "[1, 1]\n",
      "[1, 1, 2]\n",
      "[1, 1, 2, 3]\n",
      "[1, 1, 2, 3, 5]\n",
      "[1, 1, 2, 3, 5, 8]\n",
      "[1, 1, 2, 3, 5, 8, 13]\n",
      "[1, 1, 2, 3, 5, 8, 13, 21]\n",
      "[1, 1, 2, 3, 5, 8, 13, 21, 34]\n",
      "[1, 1, 2, 3, 5, 8, 13, 21, 34, 55]\n"
     ]
    }
   ],
   "source": [
    "# 斐波那契数列02\n",
    "def fib(n):\n",
    "    a = 0\n",
    "    b = 1\n",
    "    l = []\n",
    "    for i in range(n):\n",
    "        l.append(b)\n",
    "        yield l\n",
    "        a,b = b,a+b\n",
    "for j in fib(10):\n",
    "    print(j)\n",
    "# 用生成器可以看到整个变化的过程"
   ]
  },
  {
   "cell_type": "code",
   "execution_count": 30,
   "metadata": {
    "scrolled": true
   },
   "outputs": [
    {
     "name": "stdout",
     "output_type": "stream",
     "text": [
      "['1*1=1']\n",
      "['1*2=2', '2*2=4']\n",
      "['1*3=3', '2*3=6', '3*3=9']\n",
      "['1*4=4', '2*4=8', '3*4=12', '4*4=16']\n",
      "['1*5=5', '2*5=10', '3*5=15', '4*5=20', '5*5=25']\n",
      "['1*6=6', '2*6=12', '3*6=18', '4*6=24', '5*6=30', '6*6=36']\n",
      "['1*7=7', '2*7=14', '3*7=21', '4*7=28', '5*7=35', '6*7=42', '7*7=49']\n",
      "['1*8=8', '2*8=16', '3*8=24', '4*8=32', '5*8=40', '6*8=48', '7*8=56', '8*8=64']\n",
      "['1*9=9', '2*9=18', '3*9=27', '4*9=36', '5*9=45', '6*9=54', '7*9=63', '8*9=72', '9*9=81']\n"
     ]
    }
   ],
   "source": [
    "# 九九乘法表\n",
    "def jiujiu():\n",
    "    n = 1\n",
    "    while n <= 9:\n",
    "        N = [\"{}*{}={}\".format(i,n,i*n) for i in range(1,n+1)]\n",
    "        n += 1\n",
    "        yield N\n",
    "for i in jiujiu():\n",
    "    print(i)"
   ]
  },
  {
   "cell_type": "code",
   "execution_count": 35,
   "metadata": {},
   "outputs": [
    {
     "name": "stdout",
     "output_type": "stream",
     "text": [
      "[1]\n",
      "[1, 1]\n",
      "[1, 2, 1]\n",
      "[1, 3, 3, 1]\n",
      "[1, 4, 6, 4, 1]\n",
      "[1, 5, 10, 10, 5, 1]\n",
      "[1, 6, 15, 20, 15, 6, 1]\n",
      "[1, 7, 21, 35, 35, 21, 7, 1]\n",
      "[1, 8, 28, 56, 70, 56, 28, 8, 1]\n"
     ]
    }
   ],
   "source": [
    "# 杨辉三角\n",
    "\n",
    "def tri(max):\n",
    "    a = 0\n",
    "    l = [1]\n",
    "    while a <= max:\n",
    "        yield l\n",
    "        l.append(0)\n",
    "        l = [l[i-1] + l[i] for i in range(len(l))]\n",
    "        a += 1\n",
    "for j in tri(8):\n",
    "    print(j)\n",
    "        \n",
    "    "
   ]
  },
  {
   "cell_type": "code",
   "execution_count": 42,
   "metadata": {},
   "outputs": [
    {
     "name": "stdout",
     "output_type": "stream",
     "text": [
      "[1]\n",
      "[1, 1]\n",
      "[1, 2, 1]\n",
      "[1, 3, 3, 1]\n",
      "[1, 4, 6, 4, 1]\n"
     ]
    }
   ],
   "source": [
    "def triangle(max):\n",
    "    l = [1]\n",
    "    n = 0\n",
    "    while n < max:\n",
    "        yield l\n",
    "        l.append(0)\n",
    "        l = [l[i-1] + l[i] for i in range(len(l))]\n",
    "        n += 1\n",
    "for i in triangle(5):\n",
    "    print(i)"
   ]
  },
  {
   "cell_type": "code",
   "execution_count": null,
   "metadata": {
    "collapsed": true
   },
   "outputs": [],
   "source": []
  }
 ],
 "metadata": {
  "kernelspec": {
   "display_name": "Python 3",
   "language": "python",
   "name": "python3"
  },
  "language_info": {
   "codemirror_mode": {
    "name": "ipython",
    "version": 3
   },
   "file_extension": ".py",
   "mimetype": "text/x-python",
   "name": "python",
   "nbconvert_exporter": "python",
   "pygments_lexer": "ipython3",
   "version": "3.6.3"
  }
 },
 "nbformat": 4,
 "nbformat_minor": 2
}
