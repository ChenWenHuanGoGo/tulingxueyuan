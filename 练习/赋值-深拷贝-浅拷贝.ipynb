{
 "cells": [
  {
   "cell_type": "markdown",
   "metadata": {},
   "source": [
    "# 赋值\n",
    "- 总结\n",
    "    - 赋值是将一个对象的地址赋值给一个变量，让变量指向该地址\n"
   ]
  },
  {
   "cell_type": "code",
   "execution_count": 1,
   "metadata": {},
   "outputs": [
    {
     "name": "stdout",
     "output_type": "stream",
     "text": [
      "140561265429488\n",
      "140561265429488\n"
     ]
    }
   ],
   "source": [
    "s1 = \"hello world\"\n",
    "s2 = s1\n",
    "print(id(s1))\n",
    "print(id(s2))\n",
    "# s1和s2指向同一份数据"
   ]
  },
  {
   "cell_type": "code",
   "execution_count": 9,
   "metadata": {},
   "outputs": [
    {
     "name": "stdout",
     "output_type": "stream",
     "text": [
      "wo\n",
      "hello world\n",
      "140561265530056\n",
      "140561265429488\n"
     ]
    }
   ],
   "source": [
    "#此时s1指向另一份数据\n",
    "s1 = \"wo\"\n",
    "print(s1)\n",
    "print(s2)\n",
    "print(id(s1))\n",
    "print(id(s2))\n",
    "# 给s1重新赋值后，s2并没有随之改变\n",
    "# 因为s1和s2只是数据的标签而已，当执行s1=\"wo\"时，实际上相当于将s1这个标签移动到”wo“这个数据上，\n",
    "# 而s2并没有移动，数据当然不会改变"
   ]
  },
  {
   "cell_type": "code",
   "execution_count": 13,
   "metadata": {},
   "outputs": [
    {
     "name": "stdout",
     "output_type": "stream",
     "text": [
      "[]\n",
      "[]\n"
     ]
    }
   ],
   "source": [
    "l1 = [\"hello world\"]\n",
    "l2 = l1\n",
    "del l1[:]\n",
    "print(l1)\n",
    "print(l2)\n",
    "# 因为l1和l2指向同一份数据，通过s1来修改数据时，s2也发生变化\n",
    "# 同上一个例子相比，本例子是修改数据，而上一例是修改标签"
   ]
  },
  {
   "cell_type": "code",
   "execution_count": 14,
   "metadata": {},
   "outputs": [
    {
     "name": "stdout",
     "output_type": "stream",
     "text": [
      "['hello world']\n",
      "[]\n"
     ]
    }
   ],
   "source": [
    "l1 = [\"hello world\"]\n",
    "print(l1)\n",
    "print(l2)\n",
    "#这里是l1这个标签指向了另一份数据，所以s2没有改变，任然为空"
   ]
  },
  {
   "cell_type": "markdown",
   "metadata": {},
   "source": [
    "# 浅拷贝\n",
    "- copy()\n",
    "- 分片"
   ]
  },
  {
   "cell_type": "code",
   "execution_count": 28,
   "metadata": {},
   "outputs": [
    {
     "name": "stdout",
     "output_type": "stream",
     "text": [
      "[1, 2, 30]\n",
      "[1, 2, 30]\n",
      "140561402023752\n",
      "140561265428360\n",
      "140561265541320\n",
      "******\n",
      "94768067534048\n",
      "94768067534048\n",
      "94768067534048\n"
     ]
    }
   ],
   "source": [
    "l1 = [1,2,30]\n",
    "l2 = l1.copy()\n",
    "l3 = l1[:]\n",
    "print(l2)\n",
    "print(l3)\n",
    "print(id(l1))\n",
    "print(id(l2))\n",
    "print(id(l3))\n",
    "print(\"******\")\n",
    "print(id(l1[0]))\n",
    "print(id(l2[0]))\n",
    "print(id(l3[0]))\n",
    "# 浅拷贝是在另一块地址中创建一个新的变量或容器（即对象的id不同），但是容器内的元素均是源对象的元素的地址的拷贝"
   ]
  },
  {
   "cell_type": "code",
   "execution_count": 24,
   "metadata": {},
   "outputs": [
    {
     "name": "stdout",
     "output_type": "stream",
     "text": [
      "[1, 2, 30, 5, 5]\n",
      "[1, 2, 30]\n",
      "[1, 2, 30]\n"
     ]
    }
   ],
   "source": [
    "l1.append(5)\n",
    "print(l1)\n",
    "print(l2)\n",
    "print(l3)"
   ]
  },
  {
   "cell_type": "code",
   "execution_count": 38,
   "metadata": {},
   "outputs": [
    {
     "name": "stdout",
     "output_type": "stream",
     "text": [
      "a的id为：140561264993480\n",
      "a的id为：140561265541448\n",
      "[140561265003464, 140561264988040]\n",
      "[140561265003464, 140561264988040]\n",
      "['world', [1, 2, 3, 4]]\n",
      "['hello', [1, 2, 3, 4]]\n"
     ]
    }
   ],
   "source": [
    "a = [\"hello\", [1,2,3]]\n",
    "b = a.copy()\n",
    "print(\"a的id为：{}\".format(id(a)))\n",
    "print(\"a的id为：{}\".format(id(b)))\n",
    "print([id(x) for x in a])\n",
    "print([id(x) for x in b])\n",
    "# 可见通过浅拷贝后，a，b中的元素的id相同\n",
    "# 由于\"hello\"是字符串对象，属于不可改变对象，对其进行修改时，需要创建一个新的空间，赋予新的id\n",
    "# 而[1,2,3]是列表对象，属于可修改对象，对其修改可直接在源空间上修改\n",
    "# 由于浅拷贝时，拷贝了元素的id，所以在b中，第一个元素任然指向“hello”\n",
    "a[0] = \"world\"\n",
    "a[1].append(4)\n",
    "print(a)\n",
    "print(b)"
   ]
  },
  {
   "cell_type": "markdown",
   "metadata": {},
   "source": [
    "# 深拷贝\n",
    "- 方法 copy.deepcopy()\n",
    "- 完全拷贝一个副本，容器内部元素地址都不一样"
   ]
  },
  {
   "cell_type": "code",
   "execution_count": 46,
   "metadata": {},
   "outputs": [
    {
     "name": "stdout",
     "output_type": "stream",
     "text": [
      "a的id为：140561264986120\n",
      "a的id为：140561265429384\n",
      "[140561265003464, 140561265426824]\n",
      "[140561265003464, 140561265428744]\n",
      "['world', [1, 2, 3, 4]]\n",
      "['hello', [1, 2, 3]]\n"
     ]
    }
   ],
   "source": [
    "from copy import deepcopy\n",
    "a = [\"hello\", [1,2,3]]\n",
    "b = deepcopy(a)\n",
    "print(\"a的id为：{}\".format(id(a)))\n",
    "print(\"a的id为：{}\".format(id(b)))\n",
    "print([id(x) for x in a])\n",
    "print([id(x) for x in b])\n",
    "a[0] = \"world\"\n",
    "a[1].append(4)\n",
    "print(a)\n",
    "print(b)\n",
    "# 源对象怎么修改都不会影响深拷贝对象"
   ]
  },
  {
   "cell_type": "code",
   "execution_count": null,
   "metadata": {
    "collapsed": true
   },
   "outputs": [],
   "source": []
  },
  {
   "cell_type": "code",
   "execution_count": null,
   "metadata": {
    "collapsed": true
   },
   "outputs": [],
   "source": []
  }
 ],
 "metadata": {
  "kernelspec": {
   "display_name": "Python 3",
   "language": "python",
   "name": "python3"
  },
  "language_info": {
   "codemirror_mode": {
    "name": "ipython",
    "version": 3
   },
   "file_extension": ".py",
   "mimetype": "text/x-python",
   "name": "python",
   "nbconvert_exporter": "python",
   "pygments_lexer": "ipython3",
   "version": "3.6.3"
  }
 },
 "nbformat": 4,
 "nbformat_minor": 2
}
