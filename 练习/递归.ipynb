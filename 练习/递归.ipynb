{
 "cells": [
  {
   "cell_type": "code",
   "execution_count": 28,
   "metadata": {},
   "outputs": [
    {
     "name": "stdout",
     "output_type": "stream",
     "text": [
      "$2\n",
      "$1\n",
      "$0\n",
      "********************\n",
      "0\n",
      "1\n",
      "2\n"
     ]
    }
   ],
   "source": [
    "# 类似栈的先进后出模式\n",
    "\n",
    "def digui(num):\n",
    "    print(\"$\"+str(num))\n",
    "    if num > 0:\n",
    "        digui(num - 1)\n",
    "    else:\n",
    "        print(\"*\"*20)\n",
    "    print(num)\n",
    "digui(2)\n",
    "# 传入2后，打印2，进行判断，调用本身，后面的程序等待，等递归完后再执行，"
   ]
  },
  {
   "cell_type": "code",
   "execution_count": 24,
   "metadata": {},
   "outputs": [
    {
     "name": "stdout",
     "output_type": "stream",
     "text": [
      "第1次移动: A --> C\n",
      "第2次移动: A --> B\n",
      "第3次移动: C --> B\n",
      "第4次移动: A --> C\n",
      "第5次移动: B --> A\n",
      "第6次移动: B --> C\n",
      "第7次移动: A --> C\n"
     ]
    }
   ],
   "source": [
    "# 汉诺塔\n",
    "i = 1\n",
    "def hano(n,a,b,c):\n",
    "    #变量i全局化\n",
    "    global i\n",
    "    if n == 1:\n",
    "        print(\"第{}次移动:\".format(i),a,\"-->\",c)\n",
    "        i += 1\n",
    "    else:\n",
    "        hano(n-1,a,c,b)\n",
    "        hano(1,a,b,c)\n",
    "        hano(n-1,b,a,c)\n",
    "\n",
    "hano(3,\"A\",\"B\",\"C\")"
   ]
  },
  {
   "cell_type": "code",
   "execution_count": 33,
   "metadata": {},
   "outputs": [
    {
     "name": "stdout",
     "output_type": "stream",
     "text": [
      "0\n",
      "1\n",
      "2\n",
      "3\n",
      "4\n"
     ]
    }
   ],
   "source": [
    "i = 1\n",
    "def wo():\n",
    "    global i\n",
    "    for n in range(5):\n",
    "        print(n)\n",
    "        i += 1\n",
    "\n",
    "wo() "
   ]
  },
  {
   "cell_type": "code",
   "execution_count": null,
   "metadata": {
    "collapsed": true
   },
   "outputs": [],
   "source": [
    "\n"
   ]
  }
 ],
 "metadata": {
  "kernelspec": {
   "display_name": "Python 3",
   "language": "python",
   "name": "python3"
  },
  "language_info": {
   "codemirror_mode": {
    "name": "ipython",
    "version": 3
   },
   "file_extension": ".py",
   "mimetype": "text/x-python",
   "name": "python",
   "nbconvert_exporter": "python",
   "pygments_lexer": "ipython3",
   "version": "3.6.3"
  }
 },
 "nbformat": 4,
 "nbformat_minor": 2
}
