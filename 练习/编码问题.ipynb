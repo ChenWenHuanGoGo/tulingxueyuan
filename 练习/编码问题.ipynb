{
 "cells": [
  {
   "cell_type": "markdown",
   "metadata": {},
   "source": [
    "# 编码问题\n",
    "- 本质上计算机只能识别01代码\n",
    "- 编码encode\n",
    "- 解码Unicode\n",
    "- 编码简史：\n",
    "    - bit：一个0或者1的二进制数字\n",
    "    - byte：八个01代码，字节，0-255可表示所有英文字符（7个01代码就足够，即0-127就可表示所有英文字符）\n",
    "    - 第一阶段：ASCII，abc  -->  0-255  -->  01代码\n",
    "    - 第二阶段：GBK，GB2312，BIGS....... （经常乱码）\n",
    "    - 第三阶段：Unicode（ISO）（全球统一） utf-8是Unicode的一种\n",
    "- 编码表示方法：\n",
    "    - ASCII： American standard code for information interchange\n",
    "        - 所有控制字符（回车，删除等）编码在0-31范围以及127\n",
    "        - 所有标点符号，英文大小写放在32-126之间\n",
    "        - 预留128-255之间的位置\n",
    "        - 0xxx xxxx 是它的编码形式\n",
    "    - latin1：\n",
    "        - 0-127位置不动，可以兼容ASCII，二进制位0xxx xxxx\n",
    "        - 128-255位置全部用完，二进制位1xxx xxxx\n",
    "    - GBxxxxx\n",
    "        - GB2312\n",
    "        - GBK\n",
    "- Unicode编码\n",
    "    - 只是一个码表，具体没有规定\n",
    "- 编码encode： 将人类可直接读取信息转换为bytes格式\n",
    "- 解码\n",
    "\n",
    "\n",
    "\n",
    "    \n",
    "        "
   ]
  },
  {
   "cell_type": "code",
   "execution_count": 7,
   "metadata": {},
   "outputs": [
    {
     "name": "stdout",
     "output_type": "stream",
     "text": [
      "65\n",
      "25105\n",
      "d\n",
      "㴠\n"
     ]
    }
   ],
   "source": [
    "# ord()  查看一个字符的码位\n",
    "# chr()   查看一个码位所对应的字符\n",
    "print(ord(\"A\"))\n",
    "print(ord(\"我\"))\n",
    "print(chr(100))\n",
    "print(chr(15648))"
   ]
  },
  {
   "cell_type": "code",
   "execution_count": null,
   "metadata": {
    "collapsed": true
   },
   "outputs": [],
   "source": []
  }
 ],
 "metadata": {
  "kernelspec": {
   "display_name": "Python 3",
   "language": "python",
   "name": "python3"
  },
  "language_info": {
   "codemirror_mode": {
    "name": "ipython",
    "version": 3
   },
   "file_extension": ".py",
   "mimetype": "text/x-python",
   "name": "python",
   "nbconvert_exporter": "python",
   "pygments_lexer": "ipython3",
   "version": "3.6.3"
  }
 },
 "nbformat": 4,
 "nbformat_minor": 2
}
