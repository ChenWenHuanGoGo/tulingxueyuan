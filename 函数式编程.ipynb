{
 "cells": [
  {
   "cell_type": "code",
   "execution_count": 1,
   "metadata": {},
   "outputs": [
    {
     "data": {
      "text/plain": [
       "6"
      ]
     },
     "execution_count": 1,
     "metadata": {},
     "output_type": "execute_result"
    }
   ],
   "source": [
    "a = lambda x,y:x+y\n",
    "a(1,5)"
   ]
  },
  {
   "cell_type": "code",
   "execution_count": null,
   "metadata": {
    "collapsed": true
   },
   "outputs": [],
   "source": []
  },
  {
   "cell_type": "markdown",
   "metadata": {},
   "source": [
    "## 函数名称是变量\n"
   ]
  },
  {
   "cell_type": "code",
   "execution_count": 12,
   "metadata": {},
   "outputs": [
    {
     "name": "stdout",
     "output_type": "stream",
     "text": [
      "2700\n",
      "2700\n"
     ]
    }
   ],
   "source": [
    "# 高阶函数举例\n",
    "# funA是普通函数，返回一个传入数字的100 倍\n",
    "def funA(n):\n",
    "    return n *100\n",
    "#再写一个把传入参数乘以300倍\n",
    "def funB(n):\n",
    "    return funA(n) * 3\n",
    "print(funB(9))\n",
    "\n",
    "#写一个高阶函数\n",
    "def func(n,f):\n",
    "    #假定函数是把n扩大100倍\n",
    "    return f(n) * 3\n",
    "print(func(9,funA))\n"
   ]
  },
  {
   "cell_type": "markdown",
   "metadata": {},
   "source": [
    "# 高级函数 map\n",
    "-把集合或者列表中元素，每一个都按照一定规则进行操作"
   ]
  },
  {
   "cell_type": "code",
   "execution_count": 13,
   "metadata": {},
   "outputs": [
    {
     "name": "stdout",
     "output_type": "stream",
     "text": [
      "[0, 1, 2, 3, 4, 5, 6, 7, 8, 9]\n",
      "[0, 10, 20, 30, 40, 50, 60, 70, 80, 90]\n"
     ]
    }
   ],
   "source": [
    "#对一个列表中每一个元素乘以10 ，得到新的列表\n",
    "l1 = [i for i in range(10)]\n",
    "print(l1)\n",
    "l2 = []\n",
    "for i in l1:\n",
    "    l2.append(i * 10)\n",
    "print(l2)"
   ]
  },
  {
   "cell_type": "code",
   "execution_count": 25,
   "metadata": {},
   "outputs": [
    {
     "name": "stdout",
     "output_type": "stream",
     "text": [
      "<class 'map'>\n",
      "<map object at 0x7f02085f9e80>\n",
      "0  10  20  30  40  50  60  70  80  90  \n",
      "[]\n"
     ]
    }
   ],
   "source": [
    "# 利用map\n",
    "# python 2  返回一个列表 \n",
    "#python 3 返回一个迭代器，map类型是一个可迭代结构，用for循环遍历\n",
    "def mul(n):\n",
    "    return n * 10\n",
    "l3 = map(mul,l1)\n",
    "print(type(l3))\n",
    "print(l3)\n",
    "for i in l3:\n",
    "    print(i,end=\"  \")\n",
    "print(\"\") \n",
    "\n",
    "# 以下生成式为空，why？\n",
    "l4 = [i for i in l3]\n",
    "print(l4)"
   ]
  },
  {
   "cell_type": "code",
   "execution_count": 26,
   "metadata": {},
   "outputs": [
    {
     "name": "stdout",
     "output_type": "stream",
     "text": [
      "0 11 22 33 44 55 66 77 88 99 "
     ]
    }
   ],
   "source": [
    "# map2    两个列表相加\n",
    "l5 = map( lambda x,y:x+y, l1, l2 )\n",
    "for i in l5:\n",
    "    print(i, end=\" \")"
   ]
  },
  {
   "cell_type": "markdown",
   "metadata": {},
   "source": [
    "#  reduce\n",
    "- 把一个可迭代对象归并为一个结果\n",
    "- 函数必须有2个参数\n",
    "- 需要导入functools包"
   ]
  },
  {
   "cell_type": "code",
   "execution_count": 27,
   "metadata": {},
   "outputs": [
    {
     "name": "stdout",
     "output_type": "stream",
     "text": [
      "21\n"
     ]
    }
   ],
   "source": [
    "from functools import reduce\n",
    "\n",
    "def myadd(x,y):\n",
    "    return x+y\n",
    "#对列表进行myadd的reduce操作,返回一个结果\n",
    "print(reduce( myadd, [1,2,3,4,5,6]))\n"
   ]
  },
  {
   "cell_type": "markdown",
   "metadata": {
    "collapsed": true
   },
   "source": [
    "# fileter 函数\n",
    "- 过滤函数： 对一组数据进行过滤，符合条件的会生产一个新的列表\n",
    "- 跟map比较：\n",
    "    相同：对列表数据逐一操作\n",
    "    不同：map会生成一个与原来数据相对应的新队列\n",
    "           filter不一定，只有符合条件的才会进入新队列\n",
    "     filter函数怎么写：\n",
    "     利用给定函数进行判断\n",
    "     函数返回值一定是个布尔值,只过滤掉True的情况\n",
    "     调用格式：filter（f，data） f是过滤函数，data是数据"
   ]
  },
  {
   "cell_type": "code",
   "execution_count": 9,
   "metadata": {},
   "outputs": [
    {
     "name": "stdout",
     "output_type": "stream",
     "text": [
      "<filter object at 0x7fc4b4566ef0>\n",
      "[1, 3, 43, 345, 23, 345]\n"
     ]
    }
   ],
   "source": [
    "# filter案例\n",
    "\n",
    "def isEven(a):\n",
    "    if a % 2 != 0:\n",
    "        return True\n",
    "l = [1,3,4,34,43,345,23,345,234]\n",
    "rst = filter(isEven, l)\n",
    "print(rst)\n",
    "print([i for i in rst])"
   ]
  },
  {
   "cell_type": "markdown",
   "metadata": {},
   "source": [
    "# 排序 \n",
    "- 把一个序列按照给定算法进行排序\n",
    "- key：按照key函数定义的逻辑进行排序\n",
    "- Python2 和 Python3 相差巨大"
   ]
  },
  {
   "cell_type": "code",
   "execution_count": 14,
   "metadata": {},
   "outputs": [
    {
     "name": "stdout",
     "output_type": "stream",
     "text": [
      "[2, 3, 12, 24, 25, 34, 45, 45, 234, 234, 234, 535]\n",
      "[535, 234, 234, 234, 45, 45, 34, 25, 24, 12, 3, 2]\n"
     ]
    }
   ],
   "source": [
    "# 排序案例\n",
    "a = [234,535,24,234,25,234,12,34,45,2,45,3]\n",
    "a1 = sorted(a)\n",
    "a2 = sorted(a,reverse=True)\n",
    "print(a1)\n",
    "print(a2)\n"
   ]
  },
  {
   "cell_type": "code",
   "execution_count": 15,
   "metadata": {},
   "outputs": [
    {
     "name": "stdout",
     "output_type": "stream",
     "text": [
      "[34, -43, 234, 234, -243]\n"
     ]
    }
   ],
   "source": [
    "# 排序案例2\n",
    "a = [34,234,-43,-243,234]\n",
    "#按照绝对值排序\n",
    "#  abs是绝对值的意思\n",
    "a1 = sorted(a,key=abs)\n",
    "print(a1)"
   ]
  },
  {
   "cell_type": "code",
   "execution_count": 18,
   "metadata": {},
   "outputs": [
    {
     "name": "stdout",
     "output_type": "stream",
     "text": [
      "['Danaa', 'chenWenhuan', 'hHaa']\n",
      "['chenWenhuan', 'Danaa', 'hHaa']\n"
     ]
    }
   ],
   "source": [
    "astr = ['Danaa', 'hHaa', 'chenWenhuan']\n",
    "str1 = sorted(astr)\n",
    "print(str1)\n",
    "\n",
    "str2 = sorted(astr,key=str.lower)\n",
    "print(str2)"
   ]
  },
  {
   "cell_type": "markdown",
   "metadata": {},
   "source": [
    "# 返回函数\n",
    "- 函数可以返回具体的值\n",
    "- 也可以返回一个函数作为结果"
   ]
  },
  {
   "cell_type": "code",
   "execution_count": 20,
   "metadata": {},
   "outputs": [
    {
     "name": "stdout",
     "output_type": "stream",
     "text": [
      "In myF\n",
      "None\n"
     ]
    }
   ],
   "source": [
    "def myF(a):\n",
    "    print(\"In myF\")\n",
    "    return None\n",
    "my = myF(10)\n",
    "print(my)"
   ]
  },
  {
   "cell_type": "code",
   "execution_count": 41,
   "metadata": {
    "collapsed": true
   },
   "outputs": [],
   "source": [
    "# h函数作为返回值返回，被返回的函数在函数体内定义\n",
    "\n",
    "def myF2():\n",
    "    def myF3():\n",
    "        print('in myF3')\n",
    "        return 3\n",
    "    return myF3\n",
    "# 注意区分return myF3() 和 return myF3的区别：\n",
    "# return myF3是返回一个函数\n",
    "# return myF3()是返回这个函数实例化后的值"
   ]
  },
  {
   "cell_type": "code",
   "execution_count": 44,
   "metadata": {},
   "outputs": [
    {
     "name": "stdout",
     "output_type": "stream",
     "text": [
      "in myF3\n",
      "3\n",
      "<function myF2.<locals>.myF3 at 0x7fc4b440b840>\n"
     ]
    }
   ],
   "source": [
    "f3 = myF2()\n",
    "print(f3())  # 这里的f3是一个返回的函数，需要加括号进行实例化 \n",
    "print(f3)"
   ]
  },
  {
   "cell_type": "code",
   "execution_count": null,
   "metadata": {},
   "outputs": [],
   "source": []
  },
  {
   "cell_type": "code",
   "execution_count": 45,
   "metadata": {},
   "outputs": [
    {
     "name": "stdout",
     "output_type": "stream",
     "text": [
      "53\n"
     ]
    }
   ],
   "source": [
    "#####\n",
    "\n",
    "def myF4(*args):\n",
    "    def myF5():\n",
    "        rst = 0\n",
    "        for i  in args:\n",
    "            rst += i\n",
    "        return rst\n",
    "    return myF5\n",
    "# f4 是一个返回的函数，即myF5，所以需要用f4()实例化\n",
    "f4 = myF4(5,3,42,3)\n",
    "print(f4())"
   ]
  },
  {
   "cell_type": "markdown",
   "metadata": {},
   "source": [
    "# 闭包\n"
   ]
  },
  {
   "cell_type": "code",
   "execution_count": 48,
   "metadata": {},
   "outputs": [
    {
     "name": "stdout",
     "output_type": "stream",
     "text": [
      "9 9 9\n"
     ]
    }
   ],
   "source": [
    "# 大坑\n",
    "# 返回闭包时，返回函数不能引用任何循环变量\n",
    "def count1():\n",
    "    # 定义一个列表，列表中放的是定义的函数\n",
    "    fs = []\n",
    "    for i in range(1,4):\n",
    "        def a():\n",
    "            return i*i\n",
    "        fs.append(a)\n",
    "    return fs\n",
    "f1,f2,f3 = count1()\n",
    "print(f1(),f2(),f3())        "
   ]
  },
  {
   "cell_type": "code",
   "execution_count": 49,
   "metadata": {},
   "outputs": [
    {
     "name": "stdout",
     "output_type": "stream",
     "text": [
      "1 4 9\n"
     ]
    }
   ],
   "source": [
    "# 解决方案：再创建一个函数，用该函数的参数绑定循环变量的当前值\n",
    "def count2():\n",
    "    def a(i): \n",
    "        def g():  # g()为闭包\n",
    "            return i*i\n",
    "        return g\n",
    "    fs = []\n",
    "    for i in range(1,4):\n",
    "        fs.append(a(i))\n",
    "    return fs\n",
    "f1,f2,f3 = count2()\n",
    "print(f1(),f2(),f3()) "
   ]
  },
  {
   "cell_type": "markdown",
   "metadata": {},
   "source": [
    "# 装饰器\n"
   ]
  },
  {
   "cell_type": "code",
   "execution_count": 50,
   "metadata": {},
   "outputs": [
    {
     "name": "stdout",
     "output_type": "stream",
     "text": [
      "hello world\n"
     ]
    }
   ],
   "source": [
    "def hello():\n",
    "    print(\"hello world\")\n",
    "hello()"
   ]
  },
  {
   "cell_type": "code",
   "execution_count": 51,
   "metadata": {},
   "outputs": [
    {
     "name": "stdout",
     "output_type": "stream",
     "text": [
      "hello world\n"
     ]
    }
   ],
   "source": [
    "# 把函数直接赋值给变量f，这时f就变为了函数\n",
    "f = hello\n",
    "f()"
   ]
  },
  {
   "cell_type": "code",
   "execution_count": 52,
   "metadata": {},
   "outputs": [
    {
     "name": "stdout",
     "output_type": "stream",
     "text": [
      "140482815256504\n",
      "140482815256504\n"
     ]
    }
   ],
   "source": [
    "print(id(f))\n",
    "print(id(hello))"
   ]
  },
  {
   "cell_type": "code",
   "execution_count": 55,
   "metadata": {
    "collapsed": true
   },
   "outputs": [],
   "source": [
    "# 对hello扩展，每次打印hello之前打印当前系统时间\n",
    "#这个功能不能改动现有代码\n",
    "# 使用装饰器\n",
    "# 用法：使用@语法，每次要扩展到函数定以前使用@+函数名"
   ]
  },
  {
   "cell_type": "code",
   "execution_count": 57,
   "metadata": {},
   "outputs": [
    {
     "name": "stdout",
     "output_type": "stream",
     "text": [
      "Time: Mon Feb 25 20:41:49 2019\n",
      "hello world\n"
     ]
    }
   ],
   "source": [
    "#写一个装饰器\n",
    "import time\n",
    "def printtime(f):\n",
    "    # 这种写法固定\n",
    "    def wrapper(*args, **kwargs):\n",
    "        print(\"Time:\",time.ctime())\n",
    "        return f(*args, **kwargs)\n",
    "    return wrapper\n",
    "@printtime\n",
    "def hello():\n",
    "    print(\"hello world\")\n",
    "hello()"
   ]
  },
  {
   "cell_type": "code",
   "execution_count": 66,
   "metadata": {},
   "outputs": [
    {
     "name": "stdout",
     "output_type": "stream",
     "text": [
      "Time: Mon Feb 25 20:46:12 2019\n",
      "hello world\n"
     ]
    }
   ],
   "source": [
    "# 装饰器好处是，一旦定义，可以装饰任何函数\n",
    "# 装饰器功能直接添加到定义函数的功能上\n",
    "@printtime\n",
    "def hello2():\n",
    "    print(\"fsdfds\")\n",
    "    print(\"fd1235\")\n",
    "hello()\n"
   ]
  },
  {
   "cell_type": "code",
   "execution_count": 74,
   "metadata": {},
   "outputs": [
    {
     "name": "stdout",
     "output_type": "stream",
     "text": [
      "Time: Mon Feb 25 20:53:41 2019\n",
      "我是手动执行的\n",
      "Time: Mon Feb 25 20:53:41 2019\n",
      "我是手动执行的\n"
     ]
    }
   ],
   "source": [
    "# 上面对函数的装饰使用了系统定义的语法糖\n",
    "# 下面手动执行装饰器\n",
    "def hello3():\n",
    "    print(\"我是手动执行的\")\n",
    "#把hello3 当做参数传入\n",
    "hello = printtime(hello3)\n",
    "hello()\n",
    "\n",
    "f = printtime(hello3)\n",
    "f()"
   ]
  },
  {
   "cell_type": "markdown",
   "metadata": {},
   "source": [
    "# 偏函数"
   ]
  },
  {
   "cell_type": "code",
   "execution_count": 82,
   "metadata": {},
   "outputs": [
    {
     "data": {
      "text/plain": [
       "84"
      ]
     },
     "execution_count": 82,
     "metadata": {},
     "output_type": "execute_result"
    }
   ],
   "source": [
    "# 例如 我们平常的数字都是十进制\n",
    "int(\"124\")\n",
    "#help(int)\n",
    "# 求八进制字符串124，表示为十进制的数字是多少\n",
    "int(\"124\",base=8)"
   ]
  },
  {
   "cell_type": "code",
   "execution_count": 83,
   "metadata": {},
   "outputs": [
    {
     "data": {
      "text/plain": [
       "1193046"
      ]
     },
     "execution_count": 83,
     "metadata": {},
     "output_type": "execute_result"
    }
   ],
   "source": [
    "def int16(x,base=16):\n",
    "    return int(x,base)\n",
    "int16(\"123456\")\n"
   ]
  },
  {
   "cell_type": "markdown",
   "metadata": {},
   "source": [
    "## 偏函数\n",
    "- 参数固定的函数，相当于一个由特定参数的函数体\n",
    "- functools.partial 的作用是把一个函数某些函数固定，返回一个新的函数"
   ]
  },
  {
   "cell_type": "code",
   "execution_count": 85,
   "metadata": {},
   "outputs": [
    {
     "data": {
      "text/plain": [
       "74565"
      ]
     },
     "execution_count": 85,
     "metadata": {},
     "output_type": "execute_result"
    }
   ],
   "source": [
    "import functools\n",
    "int16 = functools.partial(int,base=16)\n",
    "int16(\"12345\")\n",
    "# 就是把int函数中的base参数固定，形成一个新的函数int16来使用"
   ]
  },
  {
   "cell_type": "code",
   "execution_count": null,
   "metadata": {
    "collapsed": true
   },
   "outputs": [],
   "source": [
    " "
   ]
  }
 ],
 "metadata": {
  "kernelspec": {
   "display_name": "Python 3",
   "language": "python",
   "name": "python3"
  },
  "language_info": {
   "codemirror_mode": {
    "name": "ipython",
    "version": 3
   },
   "file_extension": ".py",
   "mimetype": "text/x-python",
   "name": "python",
   "nbconvert_exporter": "python",
   "pygments_lexer": "ipython3",
   "version": "3.6.3"
  }
 },
 "nbformat": 4,
 "nbformat_minor": 2
}
